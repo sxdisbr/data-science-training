{
  "nbformat": 4,
  "nbformat_minor": 0,
  "metadata": {
    "colab": {
      "name": "product_defect_probability.ipynb",
      "provenance": [],
      "authorship_tag": "ABX9TyPszIUSnAA2pe87Gh9rnjSJ",
      "include_colab_link": true
    },
    "kernelspec": {
      "name": "python3",
      "display_name": "Python 3"
    },
    "language_info": {
      "name": "python"
    }
  },
  "cells": [
    {
      "cell_type": "markdown",
      "metadata": {
        "id": "view-in-github",
        "colab_type": "text"
      },
      "source": [
        "<a href=\"https://colab.research.google.com/github/sxdisbr/CodeAcademyOpenSource/blob/main/product_defect_probability.ipynb\" target=\"_parent\"><img src=\"https://colab.research.google.com/assets/colab-badge.svg\" alt=\"Open In Colab\"/></a>"
      ]
    },
    {
      "cell_type": "code",
      "execution_count": 3,
      "metadata": {
        "id": "5lIEKAUc-Ewh"
      },
      "outputs": [],
      "source": [
        "from google.colab import files\n"
      ]
    },
    {
      "cell_type": "code",
      "source": [
        "import pandas as pd\n",
        "import numpy as np\n",
        "import scipy.stats as stats"
      ],
      "metadata": {
        "id": "GKzaOb5P-8Pm"
      },
      "execution_count": 5,
      "outputs": []
    },
    {
      "cell_type": "code",
      "source": [
        "data = pd.read_csv('/content/Product Defects.ipynb', on_bad_lines='skip')"
      ],
      "metadata": {
        "id": "G1NxpU94_KZO"
      },
      "execution_count": 9,
      "outputs": []
    },
    {
      "cell_type": "markdown",
      "source": [
        "In this hypothetic scenario, I am in charge of monitoring the number of defective products from a specific factory. I’ve been told that the number of defects on a given day follows the Poisson distribution with the rate parameter (lambda) equal to 7. So I set a variable called lam equal to seven.\n",
        "\n"
      ],
      "metadata": {
        "id": "VcAVUzQHAKCX"
      }
    },
    {
      "cell_type": "code",
      "source": [
        "lam = 7"
      ],
      "metadata": {
        "id": "sfjQbsNq_wzP"
      },
      "execution_count": 15,
      "outputs": []
    },
    {
      "cell_type": "markdown",
      "source": [
        "I know that the rate parameter of a Poisson distribution is equal to the expected value. So in this factory case, the rate parameter would equal the expected number of defects on a given day. I am curious about how often we might observe the exact expected number of defects. So I print it."
      ],
      "metadata": {
        "id": "bNzP0AS1Cclt"
      }
    },
    {
      "cell_type": "code",
      "source": [
        "print(stats.poisson.pmf(lam, lam))"
      ],
      "metadata": {
        "colab": {
          "base_uri": "https://localhost:8080/"
        },
        "id": "4tHqE-t-A9Ty",
        "outputId": "7964c13c-fe89-4597-bc5c-01e4911cc252"
      },
      "execution_count": 14,
      "outputs": [
        {
          "output_type": "stream",
          "name": "stdout",
          "text": [
            "0.14900277967433773\n"
          ]
        }
      ]
    },
    {
      "cell_type": "markdown",
      "source": [
        "My boss said that having 4 or fewer defects on a given day is an exceptionally good day. I am curious about how often that might happen.\n",
        "So I print the probability of having one of these days."
      ],
      "metadata": {
        "id": "hkM4ykGyDZOd"
      }
    },
    {
      "cell_type": "code",
      "source": [
        "stats.poisson.cdf(4, lam)"
      ],
      "metadata": {
        "colab": {
          "base_uri": "https://localhost:8080/"
        },
        "id": "rVoFLUjfDg-M",
        "outputId": "d5d64e33-a066-4990-e953-53b02f78ef11"
      },
      "execution_count": 17,
      "outputs": [
        {
          "output_type": "execute_result",
          "data": {
            "text/plain": [
              "0.17299160788207146"
            ]
          },
          "metadata": {},
          "execution_count": 17
        }
      ]
    },
    {
      "cell_type": "markdown",
      "source": [
        "On the other hand, my boss said that having more than 9 defects on any given day is considered a bad day.\n",
        "\n",
        "I calculate and print the probability of having one of these bad days."
      ],
      "metadata": {
        "id": "hi54sFamD1tF"
      }
    },
    {
      "cell_type": "code",
      "source": [
        "stats.poisson.cdf(9, lam)"
      ],
      "metadata": {
        "colab": {
          "base_uri": "https://localhost:8080/"
        },
        "id": "DpW6aa7gD_BV",
        "outputId": "3bb4eccd-8904-4f2c-ea2d-0258fa28fe71"
      },
      "execution_count": 18,
      "outputs": [
        {
          "output_type": "execute_result",
          "data": {
            "text/plain": [
              "0.8304959372386733"
            ]
          },
          "metadata": {},
          "execution_count": 18
        }
      ]
    },
    {
      "cell_type": "markdown",
      "source": [
        "I create a variable called year_defects that has 365 random values from the Poisson distribution."
      ],
      "metadata": {
        "id": "9dZdr8fCFR_w"
      }
    },
    {
      "cell_type": "code",
      "source": [
        "year_defects = stats.poisson.rvs(lam, size = 365)"
      ],
      "metadata": {
        "id": "yKNSMRskFmYQ"
      },
      "execution_count": 20,
      "outputs": []
    },
    {
      "cell_type": "markdown",
      "source": [
        "I will print the first 20 values to see how it looks."
      ],
      "metadata": {
        "id": "rah1zH_SF-1a"
      }
    },
    {
      "cell_type": "code",
      "source": [
        "print(year_defects[0:20])"
      ],
      "metadata": {
        "colab": {
          "base_uri": "https://localhost:8080/"
        },
        "id": "uVe1nR9uF8Rp",
        "outputId": "737dfb60-bac8-465c-b527-ddb6873560a2"
      },
      "execution_count": 21,
      "outputs": [
        {
          "output_type": "stream",
          "name": "stdout",
          "text": [
            "[ 6  4  6  9  5  7 11  8  9  4  3 10  8  4  8 10  6  6  8  8]\n"
          ]
        }
      ]
    },
    {
      "cell_type": "markdown",
      "source": [
        "If I expect lam defects in a given day, in a one year period, I expect..."
      ],
      "metadata": {
        "id": "hT3a1JI0GwGB"
      }
    },
    {
      "cell_type": "code",
      "source": [
        "print(lam*365)"
      ],
      "metadata": {
        "colab": {
          "base_uri": "https://localhost:8080/"
        },
        "id": "ktuaM5TyG710",
        "outputId": "2fd24ec6-5788-447b-beb8-3ee5fd3b0a38"
      },
      "execution_count": 22,
      "outputs": [
        {
          "output_type": "stream",
          "name": "stdout",
          "text": [
            "2555\n"
          ]
        }
      ]
    },
    {
      "cell_type": "markdown",
      "source": [
        "I calculate the total sum of the variable year_defect."
      ],
      "metadata": {
        "id": "517bb-A6ImEm"
      }
    },
    {
      "cell_type": "code",
      "source": [
        "print(sum(year_defects))"
      ],
      "metadata": {
        "colab": {
          "base_uri": "https://localhost:8080/"
        },
        "id": "UKy8dQmFIzJp",
        "outputId": "c171292a-93cd-43f8-a008-9df2c1b528ea"
      },
      "execution_count": 23,
      "outputs": [
        {
          "output_type": "stream",
          "name": "stdout",
          "text": [
            "2578\n"
          ]
        }
      ]
    },
    {
      "cell_type": "markdown",
      "source": [
        "The sum it is greater (23 product defects more) than the expected value in a one year period."
      ],
      "metadata": {
        "id": "eU2rgiRfJGAf"
      }
    },
    {
      "cell_type": "code",
      "source": [
        "print(np.mean(year_defects))"
      ],
      "metadata": {
        "colab": {
          "base_uri": "https://localhost:8080/"
        },
        "id": "ynHHS5OvMlB2",
        "outputId": "3092a561-dce7-44af-b34a-8d64cfc9554f"
      },
      "execution_count": 24,
      "outputs": [
        {
          "output_type": "stream",
          "name": "stdout",
          "text": [
            "7.063013698630137\n"
          ]
        }
      ]
    },
    {
      "cell_type": "markdown",
      "source": [
        "The average mean in our simulated database is very close to the expected value."
      ],
      "metadata": {
        "id": "lzKbu8y-MvLc"
      }
    },
    {
      "cell_type": "code",
      "source": [
        "print(year_defects.max())"
      ],
      "metadata": {
        "colab": {
          "base_uri": "https://localhost:8080/"
        },
        "id": "3k02pGHeM4XU",
        "outputId": "42b16fa4-a725-4967-be15-91353a87eb3d"
      },
      "execution_count": 28,
      "outputs": [
        {
          "output_type": "stream",
          "name": "stdout",
          "text": [
            "16\n"
          ]
        }
      ]
    },
    {
      "cell_type": "markdown",
      "source": [
        "There is a maximum value of 16 in a single day, now we want to calculate the probability of observing this maximum value."
      ],
      "metadata": {
        "id": "z35RshOCN4sG"
      }
    },
    {
      "cell_type": "code",
      "source": [
        "print(1 - stats.poisson.cdf(16, 7))"
      ],
      "metadata": {
        "colab": {
          "base_uri": "https://localhost:8080/"
        },
        "id": "I3e9To1XNSa_",
        "outputId": "8b926657-1b21-47ef-f5a6-04d390d53e5d"
      },
      "execution_count": 27,
      "outputs": [
        {
          "output_type": "stream",
          "name": "stdout",
          "text": [
            "0.0009581831589177137\n"
          ]
        }
      ]
    },
    {
      "cell_type": "markdown",
      "source": [
        "We see that is a very rare event."
      ],
      "metadata": {
        "id": "ImkSCt53Ohum"
      }
    },
    {
      "cell_type": "markdown",
      "source": [
        "Now we want to know how many defects in a given day would put us in the 90th percentile of the Poisson distribution."
      ],
      "metadata": {
        "id": "On5eMVCGO1i-"
      }
    },
    {
      "cell_type": "code",
      "source": [
        "print(stats.poisson.ppf(0.90, lam))"
      ],
      "metadata": {
        "colab": {
          "base_uri": "https://localhost:8080/"
        },
        "id": "k-G1QXhJO583",
        "outputId": "dd1b0704-cc6d-4a0b-b9b0-904d2f4a44a6"
      },
      "execution_count": 31,
      "outputs": [
        {
          "output_type": "stream",
          "name": "stdout",
          "text": [
            "10.0\n"
          ]
        }
      ]
    },
    {
      "cell_type": "markdown",
      "source": [
        "On 90% of days, we will observe fewer defects than 10."
      ],
      "metadata": {
        "id": "qBxMnJQAPV_-"
      }
    },
    {
      "cell_type": "markdown",
      "source": [
        "Now let’s see what proportion of our simulated dataset year_defects is greater than or equal to the number we calculated in the previous step."
      ],
      "metadata": {
        "id": "kqsfHpuUP3d_"
      }
    },
    {
      "cell_type": "code",
      "source": [
        "print(sum(year_defects >= 10)/len(year_defects))"
      ],
      "metadata": {
        "colab": {
          "base_uri": "https://localhost:8080/"
        },
        "id": "SCBbChwOP7Gv",
        "outputId": "90de6ee5-21cf-480e-baf7-9470064f0763"
      },
      "execution_count": 32,
      "outputs": [
        {
          "output_type": "stream",
          "name": "stdout",
          "text": [
            "0.17534246575342466\n"
          ]
        }
      ]
    },
    {
      "cell_type": "markdown",
      "source": [
        "17% of days that have more than 10 defects."
      ],
      "metadata": {
        "id": "Q5gpZb_nQPpC"
      }
    }
  ]
}