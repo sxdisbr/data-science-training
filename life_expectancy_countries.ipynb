{
 "cells": [
  {
   "cell_type": "markdown",
   "id": "0d033e85",
   "metadata": {},
   "source": [
    "# Life Expectancy By Country"
   ]
  },
  {
   "cell_type": "markdown",
   "id": "fd4403be",
   "metadata": {},
   "source": [
    "Over the course of the past few centuries, technological and medical advancements have helped increase the life expectancy of humans. However, as of now, the average life expectancy of humans varies depending on what country you live in.\n",
    "\n",
    "In this project, we will investigate a dataset containing information about the average life expectancy in 158 different countries. We will specifically look at how a country's economic success might impact the life expectancy in that area."
   ]
  },
  {
   "cell_type": "markdown",
   "id": "addfa720",
   "metadata": {},
   "source": [
    "## Access the Data"
   ]
  },
  {
   "cell_type": "markdown",
   "id": "44ba5eb2",
   "metadata": {},
   "source": [
    "To begin, let's get a sense of what this data looks like. "
   ]
  },
  {
   "cell_type": "code",
   "execution_count": 3,
   "id": "551cb1ca",
   "metadata": {},
   "outputs": [],
   "source": [
    "import numpy as np\n",
    "import pandas as pd\n",
    "import matplotlib.pyplot as plt"
   ]
  },
  {
   "cell_type": "code",
   "execution_count": 29,
   "id": "d5700e95",
   "metadata": {},
   "outputs": [
    {
     "data": {
      "text/html": [
       "<div>\n",
       "<style scoped>\n",
       "    .dataframe tbody tr th:only-of-type {\n",
       "        vertical-align: middle;\n",
       "    }\n",
       "\n",
       "    .dataframe tbody tr th {\n",
       "        vertical-align: top;\n",
       "    }\n",
       "\n",
       "    .dataframe thead th {\n",
       "        text-align: right;\n",
       "    }\n",
       "</style>\n",
       "<table border=\"1\" class=\"dataframe\">\n",
       "  <thead>\n",
       "    <tr style=\"text-align: right;\">\n",
       "      <th></th>\n",
       "      <th>Country</th>\n",
       "      <th>Life Expectancy</th>\n",
       "      <th>GDP</th>\n",
       "    </tr>\n",
       "  </thead>\n",
       "  <tbody>\n",
       "    <tr>\n",
       "      <th>0</th>\n",
       "      <td>Afghanistan</td>\n",
       "      <td>58.19375</td>\n",
       "      <td>340.015425</td>\n",
       "    </tr>\n",
       "    <tr>\n",
       "      <th>1</th>\n",
       "      <td>Albania</td>\n",
       "      <td>75.15625</td>\n",
       "      <td>2119.726679</td>\n",
       "    </tr>\n",
       "    <tr>\n",
       "      <th>2</th>\n",
       "      <td>Algeria</td>\n",
       "      <td>73.61875</td>\n",
       "      <td>2847.853392</td>\n",
       "    </tr>\n",
       "    <tr>\n",
       "      <th>3</th>\n",
       "      <td>Angola</td>\n",
       "      <td>49.01875</td>\n",
       "      <td>1975.143045</td>\n",
       "    </tr>\n",
       "    <tr>\n",
       "      <th>4</th>\n",
       "      <td>Antigua and Barbuda</td>\n",
       "      <td>75.05625</td>\n",
       "      <td>9759.305728</td>\n",
       "    </tr>\n",
       "    <tr>\n",
       "      <th>5</th>\n",
       "      <td>Argentina</td>\n",
       "      <td>75.15625</td>\n",
       "      <td>6998.575103</td>\n",
       "    </tr>\n",
       "    <tr>\n",
       "      <th>6</th>\n",
       "      <td>Armenia</td>\n",
       "      <td>73.40000</td>\n",
       "      <td>1999.986318</td>\n",
       "    </tr>\n",
       "    <tr>\n",
       "      <th>7</th>\n",
       "      <td>Australia</td>\n",
       "      <td>81.81250</td>\n",
       "      <td>34637.565050</td>\n",
       "    </tr>\n",
       "    <tr>\n",
       "      <th>8</th>\n",
       "      <td>Austria</td>\n",
       "      <td>81.48125</td>\n",
       "      <td>33827.476310</td>\n",
       "    </tr>\n",
       "    <tr>\n",
       "      <th>9</th>\n",
       "      <td>Azerbaijan</td>\n",
       "      <td>70.73125</td>\n",
       "      <td>3302.947807</td>\n",
       "    </tr>\n",
       "  </tbody>\n",
       "</table>\n",
       "</div>"
      ],
      "text/plain": [
       "               Country  Life Expectancy           GDP\n",
       "0          Afghanistan         58.19375    340.015425\n",
       "1              Albania         75.15625   2119.726679\n",
       "2              Algeria         73.61875   2847.853392\n",
       "3               Angola         49.01875   1975.143045\n",
       "4  Antigua and Barbuda         75.05625   9759.305728\n",
       "5            Argentina         75.15625   6998.575103\n",
       "6              Armenia         73.40000   1999.986318\n",
       "7            Australia         81.81250  34637.565050\n",
       "8              Austria         81.48125  33827.476310\n",
       "9           Azerbaijan         70.73125   3302.947807"
      ]
     },
     "execution_count": 29,
     "metadata": {},
     "output_type": "execute_result"
    }
   ],
   "source": [
    "data = pd.read_csv(r\"C:\\Users\\pinos\\Desktop\\country_data.csv\")\n",
    "data.head(10)"
   ]
  },
  {
   "cell_type": "markdown",
   "id": "1b0baea2",
   "metadata": {},
   "source": [
    "Let's isolate the column that contains the life expectancy."
   ]
  },
  {
   "cell_type": "code",
   "execution_count": 21,
   "id": "817d9a01",
   "metadata": {},
   "outputs": [],
   "source": [
    "life_expectancy=data['Life Expectancy']"
   ]
  },
  {
   "cell_type": "markdown",
   "id": "6dbb4fb4",
   "metadata": {},
   "source": [
    "## Finding the Quantiles"
   ]
  },
  {
   "cell_type": "markdown",
   "id": "f2bb4419",
   "metadata": {},
   "source": [
    "Now I am going to use NumPy functions on that column."
   ]
  },
  {
   "cell_type": "code",
   "execution_count": 22,
   "id": "132424f2",
   "metadata": {},
   "outputs": [
    {
     "name": "stdout",
     "output_type": "stream",
     "text": [
      "[62.325     72.525     75.4421875]\n"
     ]
    }
   ],
   "source": [
    "leq=np.quantile(life_expectancy, [0.25, 0.5, 0.75])\n",
    "print(leq)"
   ]
  },
  {
   "cell_type": "markdown",
   "id": "d6b6d31e",
   "metadata": {},
   "source": [
    "By looking at those three values I can get a sense of the spread of the data. For example, it seems like some of the data is fairly close together, a quarter of the data is between 72.5 years and 75.4 years."
   ]
  },
  {
   "cell_type": "code",
   "execution_count": 23,
   "id": "9ae17988",
   "metadata": {},
   "outputs": [
    {
     "data": {
      "text/plain": [
       "(array([ 4.,  6., 14., 10., 10., 17., 11., 46., 13., 27.]),\n",
       " array([46.1125, 49.755 , 53.3975, 57.04  , 60.6825, 64.325 , 67.9675,\n",
       "        71.61  , 75.2525, 78.895 , 82.5375]),\n",
       " <BarContainer object of 10 artists>)"
      ]
     },
     "execution_count": 23,
     "metadata": {},
     "output_type": "execute_result"
    },
    {
     "data": {
      "image/png": "[encoded data removed]",
      "text/plain": [
       "<Figure size 432x288 with 1 Axes>"
      ]
     },
     "metadata": {
      "needs_background": "light"
     },
     "output_type": "display_data"
    }
   ],
   "source": [
    "plt.hist(life_expectancy)"
   ]
  },
  {
   "cell_type": "code",
   "execution_count": 36,
   "id": "fc2af746",
   "metadata": {},
   "outputs": [
    {
     "name": "stdout",
     "output_type": "stream",
     "text": [
      "    Country  Life Expectancy          GDP\n",
      "133   Spain         82.06875  17093.45974\n"
     ]
    }
   ],
   "source": [
    "spain=data[data['Country']=='Spain']\n",
    "print(spain)"
   ]
  },
  {
   "cell_type": "markdown",
   "id": "d235b1e8",
   "metadata": {},
   "source": [
    "Spain falls into the 25% above 75 years life expectancy."
   ]
  },
  {
   "cell_type": "markdown",
   "id": "dc83db64",
   "metadata": {},
   "source": [
    "## Splitting the Data by GDP"
   ]
  },
  {
   "cell_type": "markdown",
   "id": "4dab91c1",
   "metadata": {},
   "source": [
    "GDP is a measure of a country's wealth. Let's now use the GDP data to see if life expectancy is affected by this value.\n",
    "\n",
    "   I am going to split the data into two groups based on GDP. If I find the median GDP, I can create two datasets for \"low GDP countries\" and \"high GDP countries\".\n",
    "   \n",
    "   To start, let's isolate the GDP column and store it in a variable named 'gdp'. "
   ]
  },
  {
   "cell_type": "code",
   "execution_count": 49,
   "id": "fa544862",
   "metadata": {},
   "outputs": [
    {
     "data": {
      "text/plain": [
       "0      340.015425\n",
       "1     2119.726679\n",
       "2     2847.853392\n",
       "3     1975.143045\n",
       "4     9759.305728\n",
       "5     6998.575103\n",
       "6     1999.986318\n",
       "7    34637.565050\n",
       "8    33827.476310\n",
       "9     3302.947807\n",
       "Name: GDP, dtype: float64"
      ]
     },
     "execution_count": 49,
     "metadata": {},
     "output_type": "execute_result"
    }
   ],
   "source": [
    "gdp=data['GDP']\n",
    "gdp.head(10)"
   ]
  },
  {
   "cell_type": "markdown",
   "id": "cc7e433e",
   "metadata": {},
   "source": [
    "Now I want to find the median GDP. I can use NumPy's np.median() function, but since the median is also a quantile, I can call np.quantile() using 0.5 as the second parameter."
   ]
  },
  {
   "cell_type": "code",
   "execution_count": 50,
   "id": "1a3e21b3",
   "metadata": {},
   "outputs": [
    {
     "name": "stdout",
     "output_type": "stream",
     "text": [
      "2938.0781155\n",
      "2938.0781155\n"
     ]
    }
   ],
   "source": [
    "median_gdp=np.median(gdp)\n",
    "print(median_gdp)\n",
    "median_gdp=np.quantile(gdp, 0.5)\n",
    "print(median_gdp)"
   ]
  },
  {
   "cell_type": "markdown",
   "id": "7581520c",
   "metadata": {},
   "source": [
    "Let's now grab all of the rows from our original dataset that have a GDP less than or equal to the median. The following code will do that for me:"
   ]
  },
  {
   "cell_type": "code",
   "execution_count": 51,
   "id": "12067c34",
   "metadata": {},
   "outputs": [
    {
     "name": "stdout",
     "output_type": "stream",
     "text": [
      "       Country  Life Expectancy          GDP\n",
      "0  Afghanistan         58.19375   340.015425\n",
      "1      Albania         75.15625  2119.726679\n",
      "2      Algeria         73.61875  2847.853392\n",
      "3       Angola         49.01875  1975.143045\n",
      "6      Armenia         73.40000  1999.986318\n",
      "               Country  Life Expectancy           GDP\n",
      "4  Antigua and Barbuda         75.05625   9759.305728\n",
      "5            Argentina         75.15625   6998.575103\n",
      "7            Australia         81.81250  34637.565050\n",
      "8              Austria         81.48125  33827.476310\n",
      "9           Azerbaijan         70.73125   3302.947807\n"
     ]
    }
   ],
   "source": [
    "low_gdp=data[data['GDP'] <= median_gdp]\n",
    "high_gdp=data[data['GDP'] >= median_gdp]\n",
    "print(low_gdp.head())\n",
    "print(high_gdp.head())"
   ]
  },
  {
   "cell_type": "markdown",
   "id": "26ad7103",
   "metadata": {},
   "source": [
    "Now that we've split the data based on the GDP, let's see how the life expectancy of each group compares to each other."
   ]
  },
  {
   "cell_type": "code",
   "execution_count": 52,
   "id": "4a06ada2",
   "metadata": {},
   "outputs": [
    {
     "name": "stdout",
     "output_type": "stream",
     "text": [
      "[56.3375  64.34375 71.7375 ]\n",
      "[72.965625 75.15625  80.521875]\n"
     ]
    }
   ],
   "source": [
    "low_gdp_quartiles=np.quantile(low_gdp['Life Expectancy'], [0.25, 0.5, 0.75])\n",
    "print(low_gdp_quartiles)\n",
    "high_gdp_quartiles=np.quantile(high_gdp['Life Expectancy'], [0.25, 0.5, 0.75])\n",
    "print(high_gdp_quartiles)"
   ]
  },
  {
   "cell_type": "markdown",
   "id": "5fbc2a78",
   "metadata": {},
   "source": [
    "## Histogram and Conclusions"
   ]
  },
  {
   "cell_type": "markdown",
   "id": "f3472ae2",
   "metadata": {},
   "source": [
    "By looking at the quantiles, I get a sense of the spread and central tendency of these two datasets. But let's plot a histogram of each dataset to really compare them."
   ]
  },
  {
   "cell_type": "code",
   "execution_count": 53,
   "id": "87077d84",
   "metadata": {},
   "outputs": [
    {
     "data": {
      "image/png": "[encoded data removed]",
      "text/plain": [
       "<Figure size 432x288 with 1 Axes>"
      ]
     },
     "metadata": {
      "needs_background": "light"
     },
     "output_type": "display_data"
    }
   ],
   "source": [
    "plt.hist(high_gdp[\"Life Expectancy\"], alpha = 0.5, label = \"High GDP\")\n",
    "plt.hist(low_gdp[\"Life Expectancy\"], alpha = 0.5, label = \"Low GDP\")\n",
    "plt.legend()\n",
    "plt.show()"
   ]
  },
  {
   "cell_type": "markdown",
   "id": "2903763d",
   "metadata": {},
   "source": [
    "Based on the data, we can fairly say that there is an asociation between GDP and life expectancy. 70 years life expectancy is below the first quartile of the high GDP dataset, meanwhile in the low GDP, this same number falls in the third quarter of the data. "
   ]
  }
 ],
 "metadata": {
  "kernelspec": {
   "display_name": "Python 3 (ipykernel)",
   "language": "python",
   "name": "python3"
  },
  "language_info": {
   "codemirror_mode": {
    "name": "ipython",
    "version": 3
   },
   "file_extension": ".py",
   "mimetype": "text/x-python",
   "name": "python",
   "nbconvert_exporter": "python",
   "pygments_lexer": "ipython3",
   "version": "3.9.7"
  }
 },
 "nbformat": 4,
 "nbformat_minor": 5
}
