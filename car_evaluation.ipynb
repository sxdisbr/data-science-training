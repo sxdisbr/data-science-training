{
 "cells": [
  {
   "cell_type": "code",
   "execution_count": 17,
   "id": "5db08bcc",
   "metadata": {},
   "outputs": [],
   "source": [
    "import pandas as pd\n",
    "import numpy as np"
   ]
  },
  {
   "cell_type": "code",
   "execution_count": 2,
   "id": "8b93c593",
   "metadata": {},
   "outputs": [],
   "source": [
    "car_eval = pd.read_csv(r'C:\\Users\\pinos\\Desktop\\car_eval_dataset.csv')"
   ]
  },
  {
   "cell_type": "code",
   "execution_count": 3,
   "id": "809a28ec",
   "metadata": {},
   "outputs": [
    {
     "data": {
      "text/html": [
       "<div>\n",
       "<style scoped>\n",
       "    .dataframe tbody tr th:only-of-type {\n",
       "        vertical-align: middle;\n",
       "    }\n",
       "\n",
       "    .dataframe tbody tr th {\n",
       "        vertical-align: top;\n",
       "    }\n",
       "\n",
       "    .dataframe thead th {\n",
       "        text-align: right;\n",
       "    }\n",
       "</style>\n",
       "<table border=\"1\" class=\"dataframe\">\n",
       "  <thead>\n",
       "    <tr style=\"text-align: right;\">\n",
       "      <th></th>\n",
       "      <th>buying_cost</th>\n",
       "      <th>maintenance_cost</th>\n",
       "      <th>doors</th>\n",
       "      <th>capacity</th>\n",
       "      <th>luggage</th>\n",
       "      <th>safety</th>\n",
       "      <th>acceptability</th>\n",
       "      <th>manufacturer_country</th>\n",
       "    </tr>\n",
       "  </thead>\n",
       "  <tbody>\n",
       "    <tr>\n",
       "      <th>0</th>\n",
       "      <td>vhigh</td>\n",
       "      <td>low</td>\n",
       "      <td>4</td>\n",
       "      <td>4</td>\n",
       "      <td>small</td>\n",
       "      <td>med</td>\n",
       "      <td>unacc</td>\n",
       "      <td>China</td>\n",
       "    </tr>\n",
       "    <tr>\n",
       "      <th>1</th>\n",
       "      <td>vhigh</td>\n",
       "      <td>med</td>\n",
       "      <td>3</td>\n",
       "      <td>4</td>\n",
       "      <td>small</td>\n",
       "      <td>high</td>\n",
       "      <td>acc</td>\n",
       "      <td>France</td>\n",
       "    </tr>\n",
       "    <tr>\n",
       "      <th>2</th>\n",
       "      <td>med</td>\n",
       "      <td>high</td>\n",
       "      <td>3</td>\n",
       "      <td>2</td>\n",
       "      <td>med</td>\n",
       "      <td>high</td>\n",
       "      <td>unacc</td>\n",
       "      <td>United States</td>\n",
       "    </tr>\n",
       "    <tr>\n",
       "      <th>3</th>\n",
       "      <td>low</td>\n",
       "      <td>med</td>\n",
       "      <td>4</td>\n",
       "      <td>more</td>\n",
       "      <td>big</td>\n",
       "      <td>low</td>\n",
       "      <td>unacc</td>\n",
       "      <td>United States</td>\n",
       "    </tr>\n",
       "    <tr>\n",
       "      <th>4</th>\n",
       "      <td>low</td>\n",
       "      <td>high</td>\n",
       "      <td>2</td>\n",
       "      <td>more</td>\n",
       "      <td>med</td>\n",
       "      <td>high</td>\n",
       "      <td>acc</td>\n",
       "      <td>South Korea</td>\n",
       "    </tr>\n",
       "    <tr>\n",
       "      <th>5</th>\n",
       "      <td>low</td>\n",
       "      <td>low</td>\n",
       "      <td>3</td>\n",
       "      <td>4</td>\n",
       "      <td>small</td>\n",
       "      <td>low</td>\n",
       "      <td>unacc</td>\n",
       "      <td>France</td>\n",
       "    </tr>\n",
       "    <tr>\n",
       "      <th>6</th>\n",
       "      <td>med</td>\n",
       "      <td>med</td>\n",
       "      <td>4</td>\n",
       "      <td>4</td>\n",
       "      <td>big</td>\n",
       "      <td>med</td>\n",
       "      <td>acc</td>\n",
       "      <td>South Korea</td>\n",
       "    </tr>\n",
       "    <tr>\n",
       "      <th>7</th>\n",
       "      <td>vhigh</td>\n",
       "      <td>med</td>\n",
       "      <td>2</td>\n",
       "      <td>4</td>\n",
       "      <td>big</td>\n",
       "      <td>high</td>\n",
       "      <td>acc</td>\n",
       "      <td>France</td>\n",
       "    </tr>\n",
       "    <tr>\n",
       "      <th>8</th>\n",
       "      <td>high</td>\n",
       "      <td>low</td>\n",
       "      <td>3</td>\n",
       "      <td>4</td>\n",
       "      <td>big</td>\n",
       "      <td>low</td>\n",
       "      <td>unacc</td>\n",
       "      <td>Italy</td>\n",
       "    </tr>\n",
       "    <tr>\n",
       "      <th>9</th>\n",
       "      <td>low</td>\n",
       "      <td>high</td>\n",
       "      <td>4</td>\n",
       "      <td>4</td>\n",
       "      <td>small</td>\n",
       "      <td>low</td>\n",
       "      <td>unacc</td>\n",
       "      <td>Italy</td>\n",
       "    </tr>\n",
       "  </tbody>\n",
       "</table>\n",
       "</div>"
      ],
      "text/plain": [
       "  buying_cost maintenance_cost doors capacity luggage safety acceptability  \\\n",
       "0       vhigh              low     4        4   small    med         unacc   \n",
       "1       vhigh              med     3        4   small   high           acc   \n",
       "2         med             high     3        2     med   high         unacc   \n",
       "3         low              med     4     more     big    low         unacc   \n",
       "4         low             high     2     more     med   high           acc   \n",
       "5         low              low     3        4   small    low         unacc   \n",
       "6         med              med     4        4     big    med           acc   \n",
       "7       vhigh              med     2        4     big   high           acc   \n",
       "8        high              low     3        4     big    low         unacc   \n",
       "9         low             high     4        4   small    low         unacc   \n",
       "\n",
       "  manufacturer_country  \n",
       "0                China  \n",
       "1               France  \n",
       "2        United States  \n",
       "3        United States  \n",
       "4          South Korea  \n",
       "5               France  \n",
       "6          South Korea  \n",
       "7               France  \n",
       "8                Italy  \n",
       "9                Italy  "
      ]
     },
     "execution_count": 3,
     "metadata": {},
     "output_type": "execute_result"
    }
   ],
   "source": [
    "# taking a look at the dataset\n",
    "car_eval.head(10)"
   ]
  },
  {
   "cell_type": "code",
   "execution_count": 5,
   "id": "d273883e",
   "metadata": {},
   "outputs": [
    {
     "name": "stdout",
     "output_type": "stream",
     "text": [
      "Japan            228\n",
      "Germany          218\n",
      "South Korea      159\n",
      "United States    138\n",
      "Italy             97\n",
      "France            87\n",
      "China             73\n",
      "Name: manufacturer_country, dtype: int64\n"
     ]
    }
   ],
   "source": [
    "# creating a table of frequencies\n",
    "car_freq = car_eval['manufacturer_country'].value_counts()\n",
    "print(car_freq)"
   ]
  },
  {
   "cell_type": "code",
   "execution_count": 11,
   "id": "2c1f8c2c",
   "metadata": {},
   "outputs": [
    {
     "name": "stdout",
     "output_type": "stream",
     "text": [
      "Japan            22.8\n",
      "Germany          21.8\n",
      "South Korea      15.9\n",
      "United States    13.8\n",
      "Italy             9.7\n",
      "France            8.7\n",
      "China             7.3\n",
      "Name: manufacturer_country, dtype: float64\n"
     ]
    }
   ],
   "source": [
    "# creating a table of proportions\n",
    "\n",
    "car_freq_pro = car_eval['manufacturer_country'].value_counts(normalize=True)\n",
    "\n",
    "print(car_freq_pro * 100)"
   ]
  },
  {
   "cell_type": "code",
   "execution_count": 13,
   "id": "5d1dd06c",
   "metadata": {},
   "outputs": [
    {
     "name": "stdout",
     "output_type": "stream",
     "text": [
      "['vhigh' 'med' 'low' 'high']\n"
     ]
    }
   ],
   "source": [
    "# possible values for the variable buying_cost\n",
    "\n",
    "print(car_eval['buying_cost'].unique())\n"
   ]
  },
  {
   "cell_type": "code",
   "execution_count": 15,
   "id": "0f60a3f6",
   "metadata": {},
   "outputs": [
    {
     "name": "stdout",
     "output_type": "stream",
     "text": [
      "['low', 'med', 'high', 'vhigh']\n"
     ]
    }
   ],
   "source": [
    "# buying_cost is a categorical variable which means I can create an order associated with the value\n",
    "\n",
    "buying_cost_categories = ['low', 'med', 'high', 'vhigh']\n",
    "\n",
    "print(buying_cost_categories)"
   ]
  },
  {
   "cell_type": "code",
   "execution_count": 16,
   "id": "87355b91",
   "metadata": {},
   "outputs": [],
   "source": [
    "# converting the variable to type category\n",
    "\n",
    "car_eval['buying_cost'] = pd.Categorical(car_eval['buying_cost'], \n",
    "                                         buying_cost_categories, \n",
    "                                         ordered=True)"
   ]
  },
  {
   "cell_type": "code",
   "execution_count": 22,
   "id": "16e51e06",
   "metadata": {},
   "outputs": [
    {
     "name": "stdout",
     "output_type": "stream",
     "text": [
      "1.0\n",
      "vhigh\n"
     ]
    }
   ],
   "source": [
    "# median for buying_cost\n",
    "\n",
    "median_car = np.median(car_eval['buying_cost'].cat.codes)\n",
    "\n",
    "print(median_car)\n",
    "\n",
    "median_car_2 = car_eval['buying_cost'][int(median_car)]\n",
    "\n",
    "print(median_car_2)\n"
   ]
  },
  {
   "cell_type": "code",
   "execution_count": 25,
   "id": "8af9a66e",
   "metadata": {},
   "outputs": [
    {
     "name": "stdout",
     "output_type": "stream",
     "text": [
      "small    33.9\n",
      "med      33.3\n",
      "big      32.8\n",
      "Name: luggage, dtype: float64\n"
     ]
    }
   ],
   "source": [
    "# calculating the table of proportions for the variable luggage\n",
    "\n",
    "car_lug_pro = car_eval['luggage'].value_counts(normalize=True)\n",
    "print(car_lug_pro * 100)"
   ]
  },
  {
   "cell_type": "code",
   "execution_count": 27,
   "id": "264e6920",
   "metadata": {},
   "outputs": [
    {
     "name": "stdout",
     "output_type": "stream",
     "text": [
      "small    33.9\n",
      "med      33.3\n",
      "big      32.8\n",
      "Name: luggage, dtype: float64\n"
     ]
    }
   ],
   "source": [
    "# cheking for any missing values through the dropna function\n",
    "\n",
    "car_lug_pro = car_eval['luggage'].value_counts(dropna=False, normalize=True)\n",
    "\n",
    "print(car_lug_pro * 100)"
   ]
  },
  {
   "cell_type": "code",
   "execution_count": null,
   "id": "0fc40f6d",
   "metadata": {},
   "outputs": [],
   "source": [
    "# the values are the same so the dropna function concludes there is no missing values"
   ]
  },
  {
   "cell_type": "code",
   "execution_count": 32,
   "id": "49ec061b",
   "metadata": {},
   "outputs": [
    {
     "name": "stdout",
     "output_type": "stream",
     "text": [
      "small    33.9\n",
      "med      33.3\n",
      "big      32.8\n",
      "Name: luggage, dtype: float64\n"
     ]
    }
   ],
   "source": [
    "# another way to get the table of proportions\n",
    "\n",
    "car_lug_pro = car_eval['luggage'].value_counts()/ len(car_eval['luggage'])\n",
    "\n",
    "print(car_lug_pro * 100)"
   ]
  },
  {
   "cell_type": "code",
   "execution_count": 39,
   "id": "74ad75a4",
   "metadata": {},
   "outputs": [
    {
     "name": "stdout",
     "output_type": "stream",
     "text": [
      "246\n"
     ]
    }
   ],
   "source": [
    "# finding the cars that have five or more doors\n",
    "\n",
    "frequency_5 = (car_eval[\"doors\"] >= '5').sum()\n",
    "\n",
    "print(frequency_5)\n"
   ]
  },
  {
   "cell_type": "code",
   "execution_count": 42,
   "id": "a485f269",
   "metadata": {},
   "outputs": [
    {
     "name": "stdout",
     "output_type": "stream",
     "text": [
      "False    75.4\n",
      "True     24.6\n",
      "Name: doors, dtype: float64\n"
     ]
    }
   ],
   "source": [
    "# proportion of cars with 5 or more doors\n",
    "\n",
    "frequency_5_pro = (car_eval[\"doors\"] >= '5').value_counts(normalize=True)\n",
    "\n",
    "print(frequency_5_pro * 100)"
   ]
  }
 ],
 "metadata": {
  "kernelspec": {
   "display_name": "Python 3 (ipykernel)",
   "language": "python",
   "name": "python3"
  },
  "language_info": {
   "codemirror_mode": {
    "name": "ipython",
    "version": 3
   },
   "file_extension": ".py",
   "mimetype": "text/x-python",
   "name": "python",
   "nbconvert_exporter": "python",
   "pygments_lexer": "ipython3",
   "version": "3.9.7"
  }
 },
 "nbformat": 4,
 "nbformat_minor": 5
}
